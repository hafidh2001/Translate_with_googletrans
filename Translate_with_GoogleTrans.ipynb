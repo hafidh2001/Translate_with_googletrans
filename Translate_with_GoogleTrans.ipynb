{
 "cells": [
  {
   "cell_type": "markdown",
   "metadata": {},
   "source": [
    "# IMPORT LIBRARY"
   ]
  },
  {
   "cell_type": "markdown",
   "metadata": {},
   "source": [
    "Link library : https://pypi.org/project/googletrans/"
   ]
  },
  {
   "cell_type": "code",
   "execution_count": 1,
   "metadata": {
    "colab": {
     "base_uri": "https://localhost:8080/"
    },
    "id": "K_abOMvCmWMn",
    "outputId": "0d0b4db0-1454-4d44-8d6b-926a94651e2a"
   },
   "outputs": [
    {
     "name": "stdout",
     "output_type": "stream",
     "text": [
      "Requirement already satisfied: googletrans==3.1.0a0 in c:\\users\\acer\\appdata\\local\\programs\\python\\python39\\lib\\site-packages (3.1.0a0)\n",
      "Requirement already satisfied: httpx==0.13.3 in c:\\users\\acer\\appdata\\local\\programs\\python\\python39\\lib\\site-packages (from googletrans==3.1.0a0) (0.13.3)\n",
      "Requirement already satisfied: idna==2.* in c:\\users\\acer\\appdata\\local\\programs\\python\\python39\\lib\\site-packages (from httpx==0.13.3->googletrans==3.1.0a0) (2.10)\n",
      "Requirement already satisfied: hstspreload in c:\\users\\acer\\appdata\\local\\programs\\python\\python39\\lib\\site-packages (from httpx==0.13.3->googletrans==3.1.0a0) (2021.12.1)\n",
      "Requirement already satisfied: chardet==3.* in c:\\users\\acer\\appdata\\local\\programs\\python\\python39\\lib\\site-packages (from httpx==0.13.3->googletrans==3.1.0a0) (3.0.4)\n",
      "Requirement already satisfied: httpcore==0.9.* in c:\\users\\acer\\appdata\\local\\programs\\python\\python39\\lib\\site-packages (from httpx==0.13.3->googletrans==3.1.0a0) (0.9.1)\n",
      "Requirement already satisfied: certifi in c:\\users\\acer\\appdata\\local\\programs\\python\\python39\\lib\\site-packages (from httpx==0.13.3->googletrans==3.1.0a0) (2021.10.8)\n",
      "Requirement already satisfied: sniffio in c:\\users\\acer\\appdata\\local\\programs\\python\\python39\\lib\\site-packages (from httpx==0.13.3->googletrans==3.1.0a0) (1.2.0)\n",
      "Requirement already satisfied: rfc3986<2,>=1.3 in c:\\users\\acer\\appdata\\local\\programs\\python\\python39\\lib\\site-packages (from httpx==0.13.3->googletrans==3.1.0a0) (1.5.0)\n",
      "Requirement already satisfied: h11<0.10,>=0.8 in c:\\users\\acer\\appdata\\local\\programs\\python\\python39\\lib\\site-packages (from httpcore==0.9.*->httpx==0.13.3->googletrans==3.1.0a0) (0.9.0)\n",
      "Requirement already satisfied: h2==3.* in c:\\users\\acer\\appdata\\local\\programs\\python\\python39\\lib\\site-packages (from httpcore==0.9.*->httpx==0.13.3->googletrans==3.1.0a0) (3.2.0)\n",
      "Requirement already satisfied: hyperframe<6,>=5.2.0 in c:\\users\\acer\\appdata\\local\\programs\\python\\python39\\lib\\site-packages (from h2==3.*->httpcore==0.9.*->httpx==0.13.3->googletrans==3.1.0a0) (5.2.0)\n",
      "Requirement already satisfied: hpack<4,>=3.0 in c:\\users\\acer\\appdata\\local\\programs\\python\\python39\\lib\\site-packages (from h2==3.*->httpcore==0.9.*->httpx==0.13.3->googletrans==3.1.0a0) (3.0.0)\n",
      "\n",
      "Library Googletrans berhasil diinstall\n"
     ]
    }
   ],
   "source": [
    "!pip install googletrans==3.1.0a0\n",
    "\n",
    "from googletrans import Translator\n",
    "\n",
    "print(\"\\nLibrary Googletrans berhasil diinstall\")"
   ]
  },
  {
   "cell_type": "markdown",
   "metadata": {},
   "source": [
    "# TRANSLATE"
   ]
  },
  {
   "cell_type": "markdown",
   "metadata": {},
   "source": [
    "#### DECLARE LIBRARY URL"
   ]
  },
  {
   "cell_type": "markdown",
   "metadata": {},
   "source": [
    "Link Documentation : https://py-googletrans.readthedocs.io/en/latest/"
   ]
  },
  {
   "cell_type": "code",
   "execution_count": 2,
   "metadata": {},
   "outputs": [
    {
     "name": "stdout",
     "output_type": "stream",
     "text": [
      "Deklarasi berhasil dibuat\n"
     ]
    }
   ],
   "source": [
    "translator = Translator(service_urls=['translate.googleapis.com', 'https://translate.google.com'])\n",
    "\n",
    "print(\"Deklarasi berhasil dibuat\")"
   ]
  },
  {
   "cell_type": "markdown",
   "metadata": {},
   "source": [
    "#### TRANSLATE ITEM"
   ]
  },
  {
   "cell_type": "code",
   "execution_count": 3,
   "metadata": {
    "colab": {
     "base_uri": "https://localhost:8080/"
    },
    "id": "4EqOfqPTmb5q",
    "outputId": "29358775-837e-4464-fbb0-4db2fc09b22f"
   },
   "outputs": [
    {
     "name": "stdout",
     "output_type": "stream",
     "text": [
      "text                :  Когда-то давным-давно серая сова жила в густом лесу\n",
      "translate_indonesia :  Sekali waktu, burung hantu abu-abu tinggal di hutan lebat\n",
      "translate_inggris   :  Once upon a time, a gray owl lived in a dense forest\n"
     ]
    }
   ],
   "source": [
    "text = \"Когда-то давным-давно серая сова жила в густом лесу\"\n",
    "result_in = translator.translate(text, dest='id')\n",
    "result_en = translator.translate(text, dest='en')\n",
    "\n",
    "print(\"text                : \", text)\n",
    "print(\"translate_indonesia : \", result_in.text)\n",
    "print(\"translate_inggris   : \", result_en.text)"
   ]
  },
  {
   "cell_type": "markdown",
   "metadata": {},
   "source": [
    "#### TRANSLATE ALL ITEMS IN THE LIST"
   ]
  },
  {
   "cell_type": "code",
   "execution_count": 4,
   "metadata": {},
   "outputs": [
    {
     "name": "stdout",
     "output_type": "stream",
     "text": [
      "TRANSLATE TEXT : \n",
      "\n",
      "text      :  Dahulu kala hiduplah seekor burung hantu abu-abu di sebuah hutan yang lebat\n",
      "translate :  Once upon a time, a gray owl lived in a dense forest\n",
      "\n",
      "\n",
      "text      :  Burung hantu sangat pemalas\n",
      "translate :  Owls are very lazy\n",
      "\n",
      "\n",
      "text      :  la tidak suka terbang berpindah dari sawah dahan ke dahan lain dan hanya berdiam di satu dahan seharian\n",
      "translate :  He did not like to fly from one branch to another and only stayed on one branch all day\n",
      "\n",
      "\n",
      "text      :  Pada suatu hari, burung hantu sedang tidur di dahannya. Tiba-tiba, burung pelatuk hinggap di batang pohon tidak jauh dari burung hantu\n",
      "translate :  One day, an owl was sleeping on a branch. Suddenly, a woodpecker perched on a tree trunk not far from the owl\n",
      "\n",
      "\n",
      "text      :  Burung pelatuk mulai mematuki batang pohon dengan cepat\n",
      "translate :  The woodpecker started pecking at the tree trunk rapidly\n",
      "\n",
      "\n",
      "text      :  Suara bising burung pelatuk membangunkan burung hantu\n",
      "translate :  The noisy sound of woodpeckers awakens the owl\n",
      "\n",
      "\n",
      "text      :  la menggerakkan sayapnya sedikit dan dengan malas mengusir burung pelatuk\n",
      "translate :  He moved his wings a little and lazily chased the woodpecker\n",
      "\n",
      "\n"
     ]
    }
   ],
   "source": [
    "listStory = [\n",
    "    \"Dahulu kala hiduplah seekor burung hantu abu-abu di sebuah hutan yang lebat\",\n",
    "    \"Burung hantu sangat pemalas\",\n",
    "    \"la tidak suka terbang berpindah dari sawah dahan ke dahan lain dan hanya berdiam di satu dahan seharian\",\n",
    "    \"Pada suatu hari, burung hantu sedang tidur di dahannya. Tiba-tiba, burung pelatuk hinggap di batang pohon tidak jauh dari burung hantu\",\n",
    "    \"Burung pelatuk mulai mematuki batang pohon dengan cepat\",\n",
    "    \"Suara bising burung pelatuk membangunkan burung hantu\",\n",
    "    \"la menggerakkan sayapnya sedikit dan dengan malas mengusir burung pelatuk\"\n",
    "]\n",
    "\n",
    "translations = translator.translate(listStory, dest='en')\n",
    "\n",
    "print(\"TRANSLATE TEXT : \\n\")\n",
    "\n",
    "for result in translations:\n",
    "    print(\"text      : \", result.origin)\n",
    "    print(\"translate : \", result.text)\n",
    "    print(\"\\n\")"
   ]
  }
 ],
 "metadata": {
  "colab": {
   "collapsed_sections": [],
   "name": "Translate with GoogleTrans.ipynb",
   "provenance": []
  },
  "kernelspec": {
   "display_name": "Python 3 (ipykernel)",
   "language": "python",
   "name": "python3"
  },
  "language_info": {
   "codemirror_mode": {
    "name": "ipython",
    "version": 3
   },
   "file_extension": ".py",
   "mimetype": "text/x-python",
   "name": "python",
   "nbconvert_exporter": "python",
   "pygments_lexer": "ipython3",
   "version": "3.9.6"
  }
 },
 "nbformat": 4,
 "nbformat_minor": 1
}
